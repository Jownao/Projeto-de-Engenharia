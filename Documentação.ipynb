{
  "nbformat": 4,
  "nbformat_minor": 0,
  "metadata": {
    "colab": {
      "name": "Regras_negócio.ipynb",
      "provenance": [],
      "authorship_tag": "ABX9TyOqflSb6xhz6OdpDfGHZguh",
      "include_colab_link": true
    },
    "kernelspec": {
      "name": "python3",
      "display_name": "Python 3"
    },
    "language_info": {
      "name": "python"
    }
  },
  "cells": [
    {
      "cell_type": "markdown",
      "metadata": {
        "id": "view-in-github",
        "colab_type": "text"
      },
      "source": [
        "<a href=\"https://colab.research.google.com/github/Jownao/Projeto-de-Engenharia/blob/main/Documenta%C3%A7%C3%A3o.ipynb\" target=\"_parent\"><img src=\"https://colab.research.google.com/assets/colab-badge.svg\" alt=\"Open In Colab\"/></a>"
      ]
    },
    {
      "cell_type": "markdown",
      "metadata": {
        "id": "-o4KwpHUfbrD"
      },
      "source": [
        "#Documentação"
      ]
    },
    {
      "cell_type": "markdown",
      "metadata": {
        "id": "ci7MH-rLfiQm"
      },
      "source": [
        "Perfis:  \n",
        "Presidente  \n",
        "Administrador  \n",
        "Secretária  \n",
        "Pesquisador  \n",
        "Avaliador  \n",
        "-------------------------------------------------------------------------------\n",
        "1 Presidente  \n",
        "1 Administrador  \n",
        "1 Secretária  \n",
        "\n",
        "O mínimo de pesquisadores são 4 , 1 solicitante e 2 avaliadores e um terceiro possível avaliador.\n",
        "\n",
        "-------------------------------------------------------------------------------\n",
        "\n",
        "Presidente é pesquisador e avaliador\n",
        "\n",
        "Administrador cadastra Presidente e Secretária\n",
        "\n",
        "Pesquisador pode ser avaliador\n",
        "Todo avaliador é pesquisador\n",
        "\n",
        "Se o presidente quiser deixar de ser , deverá ser alterado o perfil e não a conta\n",
        "\n",
        "Pesquisador manda requisição para <Secretária> encaminha para um avaliador que não pode ser o mesmo que fez a requisição, ela designa <Avaliadores<2>> \n",
        "\n",
        "Onde 2 avaliações positivas serão passadas para o presidente\n",
        "E 2 avaliações negativas serão rejeitadas\n",
        "Caso de empate será necessário um terceiro avaliador para desempate.\n",
        "\n",
        "Pesquisador solicita um cadastro para ser pesquisador.\n",
        "\n",
        "pesquisador pode ter o nome no sistema \"Bem vindo (Usuário)\"\n",
        "\n",
        "secreteraria substituida será necessário contato com admin para novo cadastro da nova secretaria\n",
        "\n",
        "pesquisadores serem avaliadores ( possível mas difícil )\n",
        "\n",
        "\n",
        "Presidente solicita uma demissão ou aceitação de uma secretária para o administrador\n",
        "\n",
        "O presidente é trocado através de votos"
      ]
    }
  ]
}
